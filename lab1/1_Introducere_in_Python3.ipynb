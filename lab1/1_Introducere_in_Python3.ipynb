{
  "nbformat": 4,
  "nbformat_minor": 0,
  "metadata": {
    "colab": {
      "provenance": [],
      "include_colab_link": true
    },
    "kernelspec": {
      "name": "python3",
      "display_name": "Python 3"
    },
    "language_info": {
      "name": "python"
    }
  },
  "cells": [
    {
      "cell_type": "markdown",
      "metadata": {
        "id": "view-in-github",
        "colab_type": "text"
      },
      "source": [
        "<a href=\"https://colab.research.google.com/github/Sergiuas/ATMail/blob/main/lab1/1_Introducere_in_Python3.ipynb\" target=\"_parent\"><img src=\"https://colab.research.google.com/assets/colab-badge.svg\" alt=\"Open In Colab\"/></a>"
      ]
    },
    {
      "cell_type": "code",
      "source": [
        "obj = {('A') : ['B', 'C']}\n",
        "print(obj)"
      ],
      "metadata": {
        "colab": {
          "base_uri": "https://localhost:8080/"
        },
        "id": "xDQm9Y89H8u1",
        "outputId": "f5bd7922-3955-4cbc-bd9e-c39b56623c55"
      },
      "execution_count": null,
      "outputs": [
        {
          "output_type": "stream",
          "name": "stdout",
          "text": [
            "{'A': ['B', 'C']}\n"
          ]
        }
      ]
    },
    {
      "cell_type": "markdown",
      "metadata": {
        "id": "S2yFPHzj_Y6B"
      },
      "source": [
        "#Tema Laborator 1 (Introducere in Python3)\n",
        "\n",
        "Nume:\n",
        "\n",
        "Prenume:\n",
        "\n",
        "Grupa:"
      ]
    },
    {
      "cell_type": "markdown",
      "metadata": {
        "id": "9uYziS57kqhT"
      },
      "source": [
        "## Exercitiul 1\n",
        "Să se citească de la tastatură numărul n și să se afișeze valoarea 2<sup>n</sup>."
      ]
    },
    {
      "cell_type": "code",
      "metadata": {
        "id": "LzlrMi64hvkJ"
      },
      "source": [
        "#Ex 1"
      ],
      "execution_count": null,
      "outputs": []
    },
    {
      "cell_type": "markdown",
      "metadata": {
        "id": "h21KBUu4AkZt"
      },
      "source": [
        "## Exercitiul 2\n",
        "Să se implementeze o funcție ce întoarce rezultatul înmulțirii a 2 matrici pătratice."
      ]
    },
    {
      "cell_type": "code",
      "metadata": {
        "id": "a8DMR3M2Ap6-"
      },
      "source": [
        "#Ex 2"
      ],
      "execution_count": null,
      "outputs": []
    },
    {
      "cell_type": "markdown",
      "metadata": {
        "id": "IbvyOPQ4BQO-"
      },
      "source": [
        "## Exercitiul 3\n",
        "\n",
        "Să calculeze cmmdc-ul a n numere întregi fără semn cu ajutorul algritmului lui Euclid prin scăderi (Varianta recursiva)"
      ]
    },
    {
      "cell_type": "code",
      "metadata": {
        "id": "pWtgdKS4BjqN"
      },
      "source": [
        "#Ex 3"
      ],
      "execution_count": null,
      "outputs": []
    },
    {
      "cell_type": "markdown",
      "metadata": {
        "id": "f6wbFHPMBlmo"
      },
      "source": [
        "## Exercitiul 4\n",
        "\n",
        "Să se realizeze un program care citeste o propozitie si afișează în ordine alfabetică cuvintele acesteia."
      ]
    },
    {
      "cell_type": "code",
      "metadata": {
        "id": "9NDS6JrgByvw"
      },
      "source": [
        "#Ex 4"
      ],
      "execution_count": null,
      "outputs": []
    },
    {
      "cell_type": "code",
      "metadata": {
        "id": "OYnfNRaQGloK"
      },
      "source": [],
      "execution_count": null,
      "outputs": []
    },
    {
      "cell_type": "markdown",
      "metadata": {
        "id": "VH8ZMLcnB0fF"
      },
      "source": [
        "## Exercitiul 5\n",
        "\n",
        "Să se afișeze primele n numere ale șirului lui Fibbonaci."
      ]
    },
    {
      "cell_type": "code",
      "metadata": {
        "id": "iLB5xK_KCHe4"
      },
      "source": [
        "#Ex 5"
      ],
      "execution_count": null,
      "outputs": []
    },
    {
      "cell_type": "markdown",
      "metadata": {
        "id": "vkFmO30aCKRF"
      },
      "source": [
        "## Exercitiul 6\n",
        "\n",
        "Să se afiseze toate permutările mulțimii {2, 3, 4, 5}."
      ]
    },
    {
      "cell_type": "code",
      "metadata": {
        "id": "69CbeEFhCX4g"
      },
      "source": [
        "#Ex 6"
      ],
      "execution_count": null,
      "outputs": []
    },
    {
      "cell_type": "markdown",
      "metadata": {
        "id": "YS2IYh4qCtAg"
      },
      "source": [
        "## Exercitiul 7\n",
        "\n",
        "Să se implementeze algoritmul Dijkstra pentru aflarea drumului minim de la un nod la toate celelalte noduri ale unui graf neorientat."
      ]
    },
    {
      "cell_type": "code",
      "metadata": {
        "id": "LOc0QQbtCyCg"
      },
      "source": [
        "#Ex 7"
      ],
      "execution_count": null,
      "outputs": []
    }
  ]
}